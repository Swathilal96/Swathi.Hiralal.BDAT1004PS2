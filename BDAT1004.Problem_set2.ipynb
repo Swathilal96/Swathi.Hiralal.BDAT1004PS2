{
 "cells": [
  {
   "cell_type": "markdown",
   "id": "6c80785d",
   "metadata": {},
   "source": [
    "# Question 1"
   ]
  },
  {
   "cell_type": "code",
   "execution_count": 91,
   "id": "748ee238",
   "metadata": {},
   "outputs": [
    {
     "data": {
      "text/plain": [
       "6"
      ]
     },
     "execution_count": 91,
     "metadata": {},
     "output_type": "execute_result"
    }
   ],
   "source": [
    "a=0 #Initially the variable \"a\" is assigned the value of 0\n",
    "def b():\n",
    "    global a #indicates all references to \"a\" in function b() are to the global \"a\"\n",
    "    a=c(a) # function is called with passing the current value of \"a\" as an argument\n",
    "def c(a):\n",
    "    return a+2 \n",
    "#The function b() is called three times in a row, resulting in the execution of the code within the function each time\n",
    "#the value returned from c(a) is assigned back to the global variable \"a\" in the b() function\n",
    "#In each iteration of the b() function, the value of a is incremented by 2\n",
    "b() #a = 0 + 2 = 2\n",
    "b() #a = 2 + 2 = 4\n",
    "b() #a = 4 + 2 = 6\n",
    "a #When this expression is evaluated, it will display the value 6"
   ]
  },
  {
   "cell_type": "markdown",
   "id": "a57e0827",
   "metadata": {},
   "source": [
    "# Question 2"
   ]
  },
  {
   "cell_type": "code",
   "execution_count": 92,
   "id": "5c65ef78",
   "metadata": {},
   "outputs": [
    {
     "name": "stdout",
     "output_type": "stream",
     "text": [
      "File fileLength.py not found.\n"
     ]
    }
   ],
   "source": [
    "def fileLength(filename):\n",
    "    try:\n",
    "        infile = open(filename, 'r')\n",
    "        lineList = infile.read()\n",
    "        leng = len(lineList)\n",
    "        infile.close()\n",
    "        #return leng \n",
    "        print(f\"The length of the file '{filename}' is: {leng}\")\n",
    "    except FileNotFoundError:\n",
    "        print(f\"File {filename} not found.\")\n",
    "        \n",
    "fileLength('fileLength.py')\n",
    "#fileLength('fileLength.txt')"
   ]
  },
  {
   "cell_type": "markdown",
   "id": "372fc504",
   "metadata": {},
   "source": [
    "# Question 3"
   ]
  },
  {
   "cell_type": "code",
   "execution_count": 93,
   "id": "1d78750d",
   "metadata": {},
   "outputs": [
    {
     "name": "stdout",
     "output_type": "stream",
     "text": [
      "['doll', 'firetruck', 'kitten']\n",
      "I am a Kangaroo located at coordinates (3,0)\n"
     ]
    }
   ],
   "source": [
    "class Marsupial:\n",
    "    contents = []\n",
    "    def put_in_pouch(self, thing):\n",
    "        self.contents.append(thing)\n",
    "        return\n",
    "    def pouch_contents(self):\n",
    "        return self.contents\n",
    "        \n",
    "m = Marsupial()\n",
    "m.put_in_pouch('doll')\n",
    "m.put_in_pouch('firetruck')\n",
    "m.put_in_pouch('kitten')\n",
    "\n",
    "print(m.pouch_contents())\n",
    "\n",
    "class Kangaroo(Marsupial):\n",
    "    x = 0\n",
    "    y = 0\n",
    "    def __init__(self,x,y):\n",
    "        self.x = x\n",
    "        self.y = y\n",
    "    def jump(self,dx,dy):\n",
    "        self.x += dx\n",
    "        self.y += dy\n",
    "    def __str__(self):\n",
    "        return \"I am a Kangaroo located at coordinates (%d,%d)\" % (self.x,self.y)\n",
    "\n",
    "k = Kangaroo(0,0)\n",
    "k.put_in_pouch('doll')\n",
    "k.put_in_pouch('firetruck')\n",
    "k.put_in_pouch('kitten')\n",
    "k.pouch_contents()\n",
    "k.jump(1,0)\n",
    "k.jump(1,0)\n",
    "k.jump(1,0)\n",
    "print(k)"
   ]
  },
  {
   "cell_type": "markdown",
   "id": "3aa03ea0",
   "metadata": {},
   "source": [
    "# Question 4"
   ]
  },
  {
   "cell_type": "code",
   "execution_count": 94,
   "id": "d856bff1",
   "metadata": {},
   "outputs": [
    {
     "name": "stdout",
     "output_type": "stream",
     "text": [
      "10\n",
      "5\n",
      "16\n",
      "8\n",
      "4\n",
      "2\n",
      "1\n"
     ]
    }
   ],
   "source": [
    "def Collatz(x):\n",
    "    while x != 1:\n",
    "        print(x)\n",
    "        if x % 2 == 0:\n",
    "            x = x // 2\n",
    "        else:\n",
    "            x = 3 * x + 1\n",
    "    print(x)\n",
    "Collatz(10)\n",
    "#Collatz(1)"
   ]
  },
  {
   "cell_type": "markdown",
   "id": "1ffe8736",
   "metadata": {},
   "source": [
    "# Question 5"
   ]
  },
  {
   "cell_type": "code",
   "execution_count": 95,
   "id": "4b4ce68e",
   "metadata": {},
   "outputs": [
    {
     "name": "stdout",
     "output_type": "stream",
     "text": [
      "0"
     ]
    }
   ],
   "source": [
    "def binary(n):\n",
    "    if n > 0:\n",
    "        binary(n//2)\n",
    "    print(n % 2, end='')\n",
    "binary(0)\n",
    "#binary(1)\n",
    "#binary(3)\n",
    "#binary(9)"
   ]
  },
  {
   "cell_type": "markdown",
   "id": "d50c1b10",
   "metadata": {},
   "source": [
    "# Question 6"
   ]
  },
  {
   "cell_type": "code",
   "execution_count": 96,
   "id": "4a27fe60",
   "metadata": {},
   "outputs": [
    {
     "name": "stdout",
     "output_type": "stream",
     "text": [
      "W3C Mission\n",
      "    Principles\n"
     ]
    }
   ],
   "source": [
    "from html.parser import HTMLParser\n",
    "import re\n",
    "\n",
    "indentation = '    '\n",
    "HEADER_PATTERN = re.compile(r\"h[1-9]\")\n",
    "\n",
    "class HeadingParser(HTMLParser):\n",
    "    isHeadingTag = False\n",
    "    headingIndentationLen = 0\n",
    "    def handle_starttag(self, tag, attrs):\n",
    "        if re.match(HEADER_PATTERN, tag):\n",
    "            self.isHeadingTag = True\n",
    "            self.headingIndentationLen = int(tag[1])-1\n",
    "        \n",
    "    def handle_endtag(self, tag):\n",
    "        self.isHeadingTag = False\n",
    "        self.headingIndentationLen = 0\n",
    "        \n",
    "    def handle_data(self, data):\n",
    "        if self.isHeadingTag:\n",
    "            print(indentation*self.headingIndentationLen+data)\n",
    "            \n",
    "infile = open(\"w3c.html\", \"r\")\n",
    "content = infile.read()\n",
    "infile.close()\n",
    "\n",
    "hp = HeadingParser()\n",
    "hp.feed(content)"
   ]
  },
  {
   "cell_type": "markdown",
   "id": "77df59a4",
   "metadata": {},
   "source": [
    "# Question 8"
   ]
  },
  {
   "cell_type": "code",
   "execution_count": 100,
   "id": "59ce58b7",
   "metadata": {},
   "outputs": [],
   "source": [
    "import sqlite3\n",
    "\n",
    "# connect to the database\n",
    "connection = sqlite3.connect('temp_rain.db')\n",
    "\n",
    "# create a cursor object\n",
    "c = connection.cursor()\n",
    "\n",
    "# create a table\n",
    "c.execute('''CREATE TABLE temp_rainfall\n",
    "(\n",
    "City VARCHAR,\n",
    "Country VARCHAR,\n",
    "Season VARCHAR,\n",
    "Temperature FLOAT,\n",
    "Rainfall FLOAT\n",
    ")''')\n",
    "\n",
    "# insert data into the table\n",
    "c.execute(\"INSERT INTO temp_rainfall VALUES ('Mumbai', 'India', 'Winter', 24.8 , 5.9)\")\n",
    "c.execute(\"INSERT INTO temp_rainfall VALUES ('Mumbai', 'India', 'Spring', 28.4 , 16.2)\")\n",
    "c.execute(\"INSERT INTO temp_rainfall VALUES ('Mumbai', 'India', 'Summer', 27.9 , 1549.4)\")\n",
    "c.execute(\"INSERT INTO temp_rainfall VALUES ('Mumbai', 'India', 'Fall', 27.6 , 346.0)\")\n",
    "c.execute(\"INSERT INTO temp_rainfall VALUES ('London', 'United Kingdom', 'Winter', 4.2 , 207.7)\")\n",
    "c.execute(\"INSERT INTO temp_rainfall VALUES ('London', 'United Kingdom', 'Spring', 8.3 , 169.6)\")\n",
    "c.execute(\"INSERT INTO temp_rainfall VALUES ('London', 'United Kingdom', 'Summer', 15.7 , 157.0)\")\n",
    "c.execute(\"INSERT INTO temp_rainfall VALUES ('London', 'United Kingdom', 'Fall', 10.4 , 218.5)\")\n",
    "c.execute(\"INSERT INTO temp_rainfall VALUES ('Cairo', 'Egypt', 'Winter', 13.6 , 16.5)\")\n",
    "c.execute(\"INSERT INTO temp_rainfall VALUES ('Cairo', 'Egypt', 'Spring', 20.7 , 6.5)\")\n",
    "c.execute(\"INSERT INTO temp_rainfall VALUES ('Cairo', 'Egypt', 'Summer', 27.7 , 0.1)\")\n",
    "c.execute(\"INSERT INTO temp_rainfall VALUES ('Cairo', 'Egypt', 'Fall', 22.2 , 4.5)\")\n",
    "\n",
    "# save the changes\n",
    "connection.commit()\n",
    "\n",
    "# close the connection\n",
    "connection.close()"
   ]
  },
  {
   "cell_type": "markdown",
   "id": "c946fe84",
   "metadata": {},
   "source": [
    "# Question 8 (a - h)"
   ]
  },
  {
   "cell_type": "code",
   "execution_count": 98,
   "id": "608d1dc9",
   "metadata": {},
   "outputs": [
    {
     "name": "stdout",
     "output_type": "stream",
     "text": [
      "a:\n",
      "24.8\n",
      "28.4\n",
      "27.9\n",
      "27.6\n",
      "4.2\n",
      "8.3\n",
      "15.7\n",
      "10.4\n",
      "13.6\n",
      "20.7\n",
      "27.7\n",
      "22.2\n",
      "b:\n",
      "Cairo\n",
      "London\n",
      "Mumbai\n",
      "c:\n",
      "('Mumbai', 'India', 'Winter', 24.8, 5.9)\n",
      "('Mumbai', 'India', 'Spring', 28.4, 16.2)\n",
      "('Mumbai', 'India', 'Summer', 27.9, 1549.4)\n",
      "('Mumbai', 'India', 'Fall', 27.6, 346.0)\n",
      "d:\n",
      "('Mumbai', 'India', 'Fall', 27.6, 346.0)\n",
      "('London', 'United Kingdom', 'Fall', 10.4, 218.5)\n",
      "('Cairo', 'Egypt', 'Fall', 22.2, 4.5)\n",
      "e:\n",
      "('Mumbai', 'India', 'Fall')\n",
      "('London', 'United Kingdom', 'Winter')\n",
      "('London', 'United Kingdom', 'Fall')\n",
      "f:\n",
      "('Cairo', 'Egypt')\n",
      "('Mumbai', 'India')\n",
      "g:\n",
      "27.6\n",
      "h:\n",
      "(569.0, 'Fall')\n",
      "(192.29999999999998, 'Spring')\n",
      "(1706.5, 'Summer')\n",
      "(230.1, 'Winter')\n"
     ]
    }
   ],
   "source": [
    "import sqlite3\n",
    "\n",
    "# connect to the database\n",
    "connection = sqlite3.connect('temp_rain.db')\n",
    "\n",
    "# create a cursor object\n",
    "c = connection.cursor()\n",
    "\n",
    "# create a table\n",
    "c.execute(\"SELECT Temperature FROM temp_rainfall\")\n",
    "temperature = c.fetchall()\n",
    "print(\"a:\")\n",
    "\n",
    "# print the records\n",
    "for temp in temperature:\n",
    "    print(temp[0])\n",
    "    \n",
    "\n",
    "c.execute(\"SELECT City FROM temp_rainfall GROUP BY City\")\n",
    "city = c.fetchall()\n",
    "print(\"b:\")\n",
    "\n",
    "# print the records\n",
    "for cit in city:\n",
    "    print(cit[0])\n",
    "    \n",
    "c.execute(\"SELECT * FROM temp_rainfall WHERE Country = 'India'\")\n",
    "allrecords = c.fetchall()\n",
    "print(\"c:\")\n",
    "\n",
    "# print the records\n",
    "for records in allrecords:\n",
    "    print(records)\n",
    "    \n",
    "c.execute(\"SELECT * FROM temp_rainfall WHERE Season = 'Fall'\")\n",
    "allrecords = c.fetchall()\n",
    "print(\"d:\")\n",
    "\n",
    "# print the records\n",
    "for records in allrecords:\n",
    "    print(records)\n",
    "    \n",
    "c.execute(\"SELECT City, Country, Season FROM temp_rainfall WHERE Rainfall BETWEEN 200 AND 400\")\n",
    "Rainfall = c.fetchall()\n",
    "print(\"e:\")\n",
    "\n",
    "# print the records\n",
    "for AVG in Rainfall:\n",
    "    print(AVG)\n",
    "    \n",
    "c.execute(\"SELECT City, Country FROM temp_rainfall WHERE Season = 'Fall' AND Temperature > 20.00 ORDER BY Temperature\")\n",
    "Temperature = c.fetchall()\n",
    "print(\"f:\")\n",
    "\n",
    "# print the records\n",
    "for temp in Temperature:\n",
    "    print(temp)\n",
    "    \n",
    "c.execute(\"SELECT SUM(Rainfall) FROM temp_rainfall WHERE City = 'Cairo'\")\n",
    "Total_rainfall = c.fetchall()\n",
    "print(\"g:\")\n",
    "\n",
    "# print the records\n",
    "for rain in Total_rainfall:\n",
    "    print(rain[0])\n",
    "    \n",
    "c.execute(\"SELECT SUM(Rainfall),Season FROM temp_rainfall GROUP BY Season\")\n",
    "Total_rainfall = c.fetchall()\n",
    "print(\"h:\")\n",
    "\n",
    "# print the records\n",
    "for rain in Total_rainfall:\n",
    "    print(rain)\n",
    "\n",
    "    \n",
    "# close the connection\n",
    "connection.close()"
   ]
  },
  {
   "cell_type": "markdown",
   "id": "89c74e71",
   "metadata": {},
   "source": [
    "# Question 9"
   ]
  },
  {
   "cell_type": "code",
   "execution_count": 99,
   "id": "abe1a903",
   "metadata": {},
   "outputs": [
    {
     "name": "stdout",
     "output_type": "stream",
     "text": [
      "a: The list of words converted to upper case\n",
      " ['THE', 'QUICK', 'BROWN', 'FOX', 'JUMPS', 'OVER', 'THE', 'LAZY', 'DOG']\n",
      "b: The list of words converted to lower case\n",
      " ['the', 'quick', 'brown', 'fox', 'jumps', 'over', 'the', 'lazy', 'dog']\n",
      "c: The length of each word in the list\n",
      " [3, 5, 5, 3, 5, 4, 3, 4, 3]\n",
      "e: The list of words in list words containing 4 or more characters\n",
      " ['quick', 'brown', 'jumps', 'over', 'lazy']\n"
     ]
    }
   ],
   "source": [
    "words = ['The', 'quick', 'brown', 'fox', 'jumps', 'over', 'the', 'lazy', 'dog']\n",
    "uppercase_words = [word.upper() for word in words]\n",
    "lowercase_words = [word.lower() for word in words]\n",
    "length_of_words = [len(word) for word in words]\n",
    "new_list = []\n",
    "for word in words:\n",
    "    if(len(word)>=4):\n",
    "        new_list.append(word)\n",
    "print(\"a: The list of words converted to upper case\\n\",uppercase_words)\n",
    "print(\"b: The list of words converted to lower case\\n\",lowercase_words)\n",
    "print(\"c: The length of each word in the list\\n\",length_of_words)\n",
    "print(\"e: The list of words in list words containing 4 or more characters\\n\",new_list)"
   ]
  },
  {
   "cell_type": "code",
   "execution_count": null,
   "id": "85acbc07",
   "metadata": {},
   "outputs": [],
   "source": []
  }
 ],
 "metadata": {
  "kernelspec": {
   "display_name": "Python 3 (ipykernel)",
   "language": "python",
   "name": "python3"
  },
  "language_info": {
   "codemirror_mode": {
    "name": "ipython",
    "version": 3
   },
   "file_extension": ".py",
   "mimetype": "text/x-python",
   "name": "python",
   "nbconvert_exporter": "python",
   "pygments_lexer": "ipython3",
   "version": "3.10.9"
  }
 },
 "nbformat": 4,
 "nbformat_minor": 5
}
